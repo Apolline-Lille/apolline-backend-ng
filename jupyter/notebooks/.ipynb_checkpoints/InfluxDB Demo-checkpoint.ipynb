{
 "cells": [
  {
   "cell_type": "code",
   "execution_count": 1,
   "metadata": {},
   "outputs": [],
   "source": [
    "# Import InfluxDB Client\n",
    "from influxdb import InfluxDBClient"
   ]
  },
  {
   "cell_type": "code",
   "execution_count": 2,
   "metadata": {},
   "outputs": [],
   "source": [
    "# Some login data\n",
    "user='jupyter'\n",
    "password='jupyter'\n",
    "db='apolline'\n",
    "host='influxdb'\n",
    "port=8086"
   ]
  },
  {
   "cell_type": "code",
   "execution_count": 3,
   "metadata": {},
   "outputs": [],
   "source": [
    "# Connect to the database\n",
    "client = InfluxDBClient(host, port, user, password, db)"
   ]
  },
  {
   "cell_type": "code",
   "execution_count": 4,
   "metadata": {},
   "outputs": [
    {
     "name": "stdout",
     "output_type": "stream",
     "text": [
      "Result: ResultSet({})\n"
     ]
    }
   ],
   "source": [
    "# Query measurements\n",
    "query = 'SHOW MEASUREMENTS;'\n",
    "result = client.query(query);\n",
    "\n",
    "print(\"Result: {0}\".format(result))"
   ]
  },
  {
   "cell_type": "code",
   "execution_count": 5,
   "metadata": {},
   "outputs": [
    {
     "data": {
      "text/plain": [
       "True"
      ]
     },
     "execution_count": 5,
     "metadata": {},
     "output_type": "execute_result"
    }
   ],
   "source": [
    "# Should be empty as we have no measurement yet. Let's create one :\n",
    "measurement_json = [\n",
    "    {\n",
    "        \"measurement\": \"jupyter_demo\",\n",
    "        \"tags\": {\n",
    "            \"tag1\": \"hello\",\n",
    "            \"tag2\": \"world\"\n",
    "        },\n",
    "        \"time\": \"2020-06-02T13:00:00Z\",\n",
    "        \"fields\": {\n",
    "            \"field1\": 0.42,\n",
    "            \"field2\": \"Hello world!\"\n",
    "        }\n",
    "    }\n",
    "]\n",
    "\n",
    "client.write_points(measurement_json)"
   ]
  },
  {
   "cell_type": "code",
   "execution_count": 6,
   "metadata": {},
   "outputs": [
    {
     "name": "stdout",
     "output_type": "stream",
     "text": [
      "Result: ResultSet({'('measurements', None)': [{'name': 'jupyter_demo'}]})\n"
     ]
    }
   ],
   "source": [
    "# Done. Let's show the measurements again :\n",
    "result = client.query(query);\n",
    "\n",
    "print(\"Result: {0}\".format(result))"
   ]
  },
  {
   "cell_type": "code",
   "execution_count": 8,
   "metadata": {},
   "outputs": [
    {
     "name": "stdout",
     "output_type": "stream",
     "text": [
      "Result: ResultSet({'('jupyter_demo', None)': [{'time': '2020-06-02T13:00:00Z', 'field1': 0.42, 'field2': 'Hello world!', 'tag1': 'hello', 'tag2': 'world'}]})\n"
     ]
    }
   ],
   "source": [
    "# We have our measurement. Let's get these values.\n",
    "# You can parametrize requests by creating an array of key-value, like this :\n",
    "bind_params = {'firstTag': 'hello'}\n",
    "\n",
    "# Then include this array in the client.query() call :\n",
    "query_fetch = \"SELECT * FROM jupyter_demo WHERE tag1=$firstTag\"\n",
    "result = client.query(query_fetch, bind_params=bind_params)\n",
    "\n",
    "print(\"Result: {0}\".format(result))"
   ]
  },
  {
   "cell_type": "code",
   "execution_count": null,
   "metadata": {},
   "outputs": [],
   "source": []
  }
 ],
 "metadata": {
  "kernelspec": {
   "display_name": "Python 3",
   "language": "python",
   "name": "python3"
  },
  "language_info": {
   "codemirror_mode": {
    "name": "ipython",
    "version": 3
   },
   "file_extension": ".py",
   "mimetype": "text/x-python",
   "name": "python",
   "nbconvert_exporter": "python",
   "pygments_lexer": "ipython3",
   "version": "3.7.6"
  }
 },
 "nbformat": 4,
 "nbformat_minor": 4
}
